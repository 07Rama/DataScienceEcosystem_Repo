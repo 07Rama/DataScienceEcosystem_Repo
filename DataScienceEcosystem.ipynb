{
 "cells": [
  {
   "cell_type": "markdown",
   "id": "27df619c-92f8-4f41-adc4-3e9221b059f2",
   "metadata": {
    "tags": []
   },
   "source": [
    "Create markdown cell with title of the notebook\n",
    "\n",
    "# Data Science Tools and Ecosystem"
   ]
  },
  {
   "cell_type": "markdown",
   "id": "765f6469-96ae-49c2-b3e5-2dc1140195c7",
   "metadata": {},
   "source": [
    "Create a markdown cell for an introduction\n",
    "\n",
    "In this notebook, Data Science Tools and Ecosystem are summarized."
   ]
  },
  {
   "cell_type": "markdown",
   "id": "df991d20-878d-429a-98d9-52fcd0150532",
   "metadata": {},
   "source": [
    "Create a markdown cell to list data science languages\n",
    "\n",
    "Some of the popular languages that Data Scientists use are:\n",
    "1. Python\n",
    "2. R\n",
    "3. SQL\n",
    "4. Julia"
   ]
  },
  {
   "cell_type": "markdown",
   "id": "9a86c201-d94e-4fa1-b1c1-0ac257fd9115",
   "metadata": {},
   "source": [
    "Create a markdown cell to list data science libraries\n",
    "\n",
    "Some of the commonly used libraries used by Data Scientists include:\n",
    "1. SciPy\n",
    "2. Matplotlib\n",
    "3. Pandas\n",
    "4. NumPy\n",
    "\n"
   ]
  },
  {
   "cell_type": "markdown",
   "id": "94e5cacd-ce1c-4e02-ba53-11a3f554eaf5",
   "metadata": {},
   "source": [
    "Create a markdown cell with a table of Data Science tools\n",
    "\n",
    "| Data Science Tools |\n",
    "| ------------------ |\n",
    "| RStudio |\n",
    "| Jupyter Notebook |\n",
    "| Spyder |"
   ]
  },
  {
   "cell_type": "markdown",
   "id": "bbd2d07e-daa5-4929-9fcd-81304182637f",
   "metadata": {},
   "source": [
    "Create a markdown cell introducing arithmetic expression examples\n",
    "\n",
    "### Below are a few examples of evaluating arithmetic expressions in Python\n",
    "* 3+5+10\n",
    "* (17*3)+5\n",
    "* 89*15\n",
    "* (90*5)-12"
   ]
  },
  {
   "cell_type": "code",
   "execution_count": 1,
   "id": "b0d32e8d-87cd-4926-ae8c-384453de4cef",
   "metadata": {
    "tags": []
   },
   "outputs": [
    {
     "data": {
      "text/plain": [
       "17"
      ]
     },
     "execution_count": 1,
     "metadata": {},
     "output_type": "execute_result"
    }
   ],
   "source": [
    "# Create a code cell to multiply and add numbers\n",
    "\n",
    "# This a simple arithmetic expression to mutiply then add integers\n",
    "(3*4)+5"
   ]
  },
  {
   "cell_type": "code",
   "execution_count": 2,
   "id": "5086385c-215d-4056-8069-3fe43b1f20df",
   "metadata": {
    "tags": []
   },
   "outputs": [
    {
     "data": {
      "text/plain": [
       "3"
      ]
     },
     "execution_count": 2,
     "metadata": {},
     "output_type": "execute_result"
    }
   ],
   "source": [
    "# Create a code cell to convert minutes to hours\n",
    "\n",
    "# This will convert 200 minutes to hours by diving by 60\n",
    "200//60"
   ]
  },
  {
   "cell_type": "markdown",
   "id": "ccfa62db-624b-4f24-9a25-1c0fae4e1fd2",
   "metadata": {},
   "source": [
    "Insert a markdown cell to list Objectives\n",
    "\n",
    "**Objectives**\n",
    "* In this notebook, Data Science Tools and Ecosystem are summarized.\n",
    "* Some of the popular languages that Data Scientists use are: Python, R, SQL, Julia\n",
    "* Some of the commonly used libraries used by Data Scientists include: SciPy, Matplotlib, Pandas, NumPy\n"
   ]
  },
  {
   "cell_type": "markdown",
   "id": "1398614e-4643-42e3-9907-3728ec1b0b0c",
   "metadata": {},
   "source": [
    "Create a markdown cell to indicate the Author's name\n",
    "\n",
    "## Author\n",
    "Rama Rani"
   ]
  },
  {
   "cell_type": "code",
   "execution_count": null,
   "id": "34c3f035-73f5-4a61-b93f-525db05de6f9",
   "metadata": {},
   "outputs": [],
   "source": []
  }
 ],
 "metadata": {
  "kernelspec": {
   "display_name": "Python",
   "language": "python",
   "name": "conda-env-python-py"
  },
  "language_info": {
   "codemirror_mode": {
    "name": "ipython",
    "version": 3
   },
   "file_extension": ".py",
   "mimetype": "text/x-python",
   "name": "python",
   "nbconvert_exporter": "python",
   "pygments_lexer": "ipython3",
   "version": "3.7.12"
  }
 },
 "nbformat": 4,
 "nbformat_minor": 5
}
